{
 "cells": [
  {
   "metadata": {},
   "cell_type": "markdown",
   "source": "**Exploring Data** ",
   "id": "bd2549e26bb1710b"
  },
  {
   "metadata": {
    "collapsed": true,
    "ExecuteTime": {
     "end_time": "2025-02-13T18:41:48.671946Z",
     "start_time": "2025-02-13T18:41:48.668599Z"
    }
   },
   "cell_type": "code",
   "source": [
    "\n",
    "import pandas as pd\n",
    "import numpy as np"
   ],
   "id": "initial_id",
   "outputs": [],
   "execution_count": 4
  },
  {
   "metadata": {
    "ExecuteTime": {
     "end_time": "2025-02-13T18:41:50.631192Z",
     "start_time": "2025-02-13T18:41:50.066384Z"
    }
   },
   "cell_type": "code",
   "source": [
    "root_X = r\"C:\\Users\\Haison\\Documents\\movie_classifier\\data\\processed\\X.csv\"\n",
    "root_Y = r\"C:\\Users\\Haison\\Documents\\movie_classifier\\data\\processed\\Y.csv\"\n",
    "X = pd.read_csv(root_X)\n",
    "Y = pd.read_csv(root_Y)"
   ],
   "id": "cea9bd28047ece55",
   "outputs": [],
   "execution_count": 5
  },
  {
   "metadata": {
    "ExecuteTime": {
     "end_time": "2025-02-13T18:41:51.367622Z",
     "start_time": "2025-02-13T18:41:51.361395Z"
    }
   },
   "cell_type": "code",
   "source": [
    "#Shape of dataset in X\n",
    "X.shape"
   ],
   "id": "1c0cd22fb03882a4",
   "outputs": [
    {
     "data": {
      "text/plain": [
       "(3428, 3705)"
      ]
     },
     "execution_count": 6,
     "metadata": {},
     "output_type": "execute_result"
    }
   ],
   "execution_count": 6
  },
  {
   "metadata": {
    "ExecuteTime": {
     "end_time": "2025-02-13T18:41:52.778115Z",
     "start_time": "2025-02-13T18:41:52.773593Z"
    }
   },
   "cell_type": "code",
   "source": [
    "#Shape of dataset in Y\n",
    "Y.shape"
   ],
   "id": "e1afd739183e4be3",
   "outputs": [
    {
     "data": {
      "text/plain": [
       "(3428, 1)"
      ]
     },
     "execution_count": 7,
     "metadata": {},
     "output_type": "execute_result"
    }
   ],
   "execution_count": 7
  },
  {
   "metadata": {
    "ExecuteTime": {
     "end_time": "2025-02-13T17:26:22.841143Z",
     "start_time": "2025-02-13T17:26:20.171909Z"
    }
   },
   "cell_type": "code",
   "source": "X.describe().T",
   "id": "13193a54268a8374",
   "outputs": [
    {
     "data": {
      "text/plain": [
       "       count      mean       std  min  25%  50%  75%  max\n",
       "0     3428.0  0.384189  1.141445  0.0  0.0  0.0  0.0  5.0\n",
       "1     3428.0  0.468786  1.348697  0.0  0.0  0.0  0.0  5.0\n",
       "2     3428.0  1.134772  1.817123  0.0  0.0  0.0  3.0  5.0\n",
       "3     3428.0  1.307468  1.883531  0.0  0.0  0.0  3.0  5.0\n",
       "4     3428.0  1.853267  2.199636  0.0  0.0  0.0  4.0  5.0\n",
       "...      ...       ...       ...  ...  ...  ...  ...  ...\n",
       "3700  3428.0  0.001459  0.085398  0.0  0.0  0.0  0.0  5.0\n",
       "3701  3428.0  0.000000  0.000000  0.0  0.0  0.0  0.0  0.0\n",
       "3702  3428.0  0.000000  0.000000  0.0  0.0  0.0  0.0  0.0\n",
       "3703  3428.0  0.000000  0.000000  0.0  0.0  0.0  0.0  0.0\n",
       "3704  3428.0  0.001167  0.068319  0.0  0.0  0.0  0.0  4.0\n",
       "\n",
       "[3705 rows x 8 columns]"
      ],
      "text/html": [
       "<div>\n",
       "<style scoped>\n",
       "    .dataframe tbody tr th:only-of-type {\n",
       "        vertical-align: middle;\n",
       "    }\n",
       "\n",
       "    .dataframe tbody tr th {\n",
       "        vertical-align: top;\n",
       "    }\n",
       "\n",
       "    .dataframe thead th {\n",
       "        text-align: right;\n",
       "    }\n",
       "</style>\n",
       "<table border=\"1\" class=\"dataframe\">\n",
       "  <thead>\n",
       "    <tr style=\"text-align: right;\">\n",
       "      <th></th>\n",
       "      <th>count</th>\n",
       "      <th>mean</th>\n",
       "      <th>std</th>\n",
       "      <th>min</th>\n",
       "      <th>25%</th>\n",
       "      <th>50%</th>\n",
       "      <th>75%</th>\n",
       "      <th>max</th>\n",
       "    </tr>\n",
       "  </thead>\n",
       "  <tbody>\n",
       "    <tr>\n",
       "      <th>0</th>\n",
       "      <td>3428.0</td>\n",
       "      <td>0.384189</td>\n",
       "      <td>1.141445</td>\n",
       "      <td>0.0</td>\n",
       "      <td>0.0</td>\n",
       "      <td>0.0</td>\n",
       "      <td>0.0</td>\n",
       "      <td>5.0</td>\n",
       "    </tr>\n",
       "    <tr>\n",
       "      <th>1</th>\n",
       "      <td>3428.0</td>\n",
       "      <td>0.468786</td>\n",
       "      <td>1.348697</td>\n",
       "      <td>0.0</td>\n",
       "      <td>0.0</td>\n",
       "      <td>0.0</td>\n",
       "      <td>0.0</td>\n",
       "      <td>5.0</td>\n",
       "    </tr>\n",
       "    <tr>\n",
       "      <th>2</th>\n",
       "      <td>3428.0</td>\n",
       "      <td>1.134772</td>\n",
       "      <td>1.817123</td>\n",
       "      <td>0.0</td>\n",
       "      <td>0.0</td>\n",
       "      <td>0.0</td>\n",
       "      <td>3.0</td>\n",
       "      <td>5.0</td>\n",
       "    </tr>\n",
       "    <tr>\n",
       "      <th>3</th>\n",
       "      <td>3428.0</td>\n",
       "      <td>1.307468</td>\n",
       "      <td>1.883531</td>\n",
       "      <td>0.0</td>\n",
       "      <td>0.0</td>\n",
       "      <td>0.0</td>\n",
       "      <td>3.0</td>\n",
       "      <td>5.0</td>\n",
       "    </tr>\n",
       "    <tr>\n",
       "      <th>4</th>\n",
       "      <td>3428.0</td>\n",
       "      <td>1.853267</td>\n",
       "      <td>2.199636</td>\n",
       "      <td>0.0</td>\n",
       "      <td>0.0</td>\n",
       "      <td>0.0</td>\n",
       "      <td>4.0</td>\n",
       "      <td>5.0</td>\n",
       "    </tr>\n",
       "    <tr>\n",
       "      <th>...</th>\n",
       "      <td>...</td>\n",
       "      <td>...</td>\n",
       "      <td>...</td>\n",
       "      <td>...</td>\n",
       "      <td>...</td>\n",
       "      <td>...</td>\n",
       "      <td>...</td>\n",
       "      <td>...</td>\n",
       "    </tr>\n",
       "    <tr>\n",
       "      <th>3700</th>\n",
       "      <td>3428.0</td>\n",
       "      <td>0.001459</td>\n",
       "      <td>0.085398</td>\n",
       "      <td>0.0</td>\n",
       "      <td>0.0</td>\n",
       "      <td>0.0</td>\n",
       "      <td>0.0</td>\n",
       "      <td>5.0</td>\n",
       "    </tr>\n",
       "    <tr>\n",
       "      <th>3701</th>\n",
       "      <td>3428.0</td>\n",
       "      <td>0.000000</td>\n",
       "      <td>0.000000</td>\n",
       "      <td>0.0</td>\n",
       "      <td>0.0</td>\n",
       "      <td>0.0</td>\n",
       "      <td>0.0</td>\n",
       "      <td>0.0</td>\n",
       "    </tr>\n",
       "    <tr>\n",
       "      <th>3702</th>\n",
       "      <td>3428.0</td>\n",
       "      <td>0.000000</td>\n",
       "      <td>0.000000</td>\n",
       "      <td>0.0</td>\n",
       "      <td>0.0</td>\n",
       "      <td>0.0</td>\n",
       "      <td>0.0</td>\n",
       "      <td>0.0</td>\n",
       "    </tr>\n",
       "    <tr>\n",
       "      <th>3703</th>\n",
       "      <td>3428.0</td>\n",
       "      <td>0.000000</td>\n",
       "      <td>0.000000</td>\n",
       "      <td>0.0</td>\n",
       "      <td>0.0</td>\n",
       "      <td>0.0</td>\n",
       "      <td>0.0</td>\n",
       "      <td>0.0</td>\n",
       "    </tr>\n",
       "    <tr>\n",
       "      <th>3704</th>\n",
       "      <td>3428.0</td>\n",
       "      <td>0.001167</td>\n",
       "      <td>0.068319</td>\n",
       "      <td>0.0</td>\n",
       "      <td>0.0</td>\n",
       "      <td>0.0</td>\n",
       "      <td>0.0</td>\n",
       "      <td>4.0</td>\n",
       "    </tr>\n",
       "  </tbody>\n",
       "</table>\n",
       "<p>3705 rows × 8 columns</p>\n",
       "</div>"
      ]
     },
     "execution_count": 21,
     "metadata": {},
     "output_type": "execute_result"
    }
   ],
   "execution_count": 21
  },
  {
   "metadata": {
    "ExecuteTime": {
     "end_time": "2025-02-13T18:42:34.508787Z",
     "start_time": "2025-02-13T18:42:34.480534Z"
    }
   },
   "cell_type": "code",
   "source": "Y.describe().T",
   "id": "7b8d83a36b1f9aea",
   "outputs": [
    {
     "data": {
      "text/plain": [
       "        count      mean       std  min  25%  50%  75%  max\n",
       "label  3428.0  0.832264  0.373686  0.0  1.0  1.0  1.0  1.0"
      ],
      "text/html": [
       "<div>\n",
       "<style scoped>\n",
       "    .dataframe tbody tr th:only-of-type {\n",
       "        vertical-align: middle;\n",
       "    }\n",
       "\n",
       "    .dataframe tbody tr th {\n",
       "        vertical-align: top;\n",
       "    }\n",
       "\n",
       "    .dataframe thead th {\n",
       "        text-align: right;\n",
       "    }\n",
       "</style>\n",
       "<table border=\"1\" class=\"dataframe\">\n",
       "  <thead>\n",
       "    <tr style=\"text-align: right;\">\n",
       "      <th></th>\n",
       "      <th>count</th>\n",
       "      <th>mean</th>\n",
       "      <th>std</th>\n",
       "      <th>min</th>\n",
       "      <th>25%</th>\n",
       "      <th>50%</th>\n",
       "      <th>75%</th>\n",
       "      <th>max</th>\n",
       "    </tr>\n",
       "  </thead>\n",
       "  <tbody>\n",
       "    <tr>\n",
       "      <th>label</th>\n",
       "      <td>3428.0</td>\n",
       "      <td>0.832264</td>\n",
       "      <td>0.373686</td>\n",
       "      <td>0.0</td>\n",
       "      <td>1.0</td>\n",
       "      <td>1.0</td>\n",
       "      <td>1.0</td>\n",
       "      <td>1.0</td>\n",
       "    </tr>\n",
       "  </tbody>\n",
       "</table>\n",
       "</div>"
      ]
     },
     "execution_count": 8,
     "metadata": {},
     "output_type": "execute_result"
    }
   ],
   "execution_count": 8
  },
  {
   "metadata": {
    "ExecuteTime": {
     "end_time": "2025-02-13T18:45:11.751782Z",
     "start_time": "2025-02-13T18:45:11.736150Z"
    }
   },
   "cell_type": "code",
   "source": "X.isnull().sum()",
   "id": "39e4ca4e26201500",
   "outputs": [
    {
     "data": {
      "text/plain": [
       "0       0\n",
       "1       0\n",
       "2       0\n",
       "3       0\n",
       "4       0\n",
       "       ..\n",
       "3700    0\n",
       "3701    0\n",
       "3702    0\n",
       "3703    0\n",
       "3704    0\n",
       "Length: 3705, dtype: int64"
      ]
     },
     "execution_count": 12,
     "metadata": {},
     "output_type": "execute_result"
    }
   ],
   "execution_count": 12
  },
  {
   "metadata": {
    "ExecuteTime": {
     "end_time": "2025-02-13T18:45:20.752368Z",
     "start_time": "2025-02-13T18:45:20.747320Z"
    }
   },
   "cell_type": "code",
   "source": "Y.isnull().sum()",
   "id": "2a09d8fc06698fe4",
   "outputs": [
    {
     "data": {
      "text/plain": [
       "label    0\n",
       "dtype: int64"
      ]
     },
     "execution_count": 13,
     "metadata": {},
     "output_type": "execute_result"
    }
   ],
   "execution_count": 13
  }
 ],
 "metadata": {
  "kernelspec": {
   "display_name": "Python 3",
   "language": "python",
   "name": "python3"
  },
  "language_info": {
   "codemirror_mode": {
    "name": "ipython",
    "version": 2
   },
   "file_extension": ".py",
   "mimetype": "text/x-python",
   "name": "python",
   "nbconvert_exporter": "python",
   "pygments_lexer": "ipython2",
   "version": "2.7.6"
  }
 },
 "nbformat": 4,
 "nbformat_minor": 5
}
